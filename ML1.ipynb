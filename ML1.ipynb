{
 "cells": [
  {
   "cell_type": "code",
   "execution_count": null,
   "metadata": {},
   "outputs": [],
   "source": [
    "Question 1:What are the three stages to build the hypotheses or model in machine learning?\n",
    "    \n",
    "    Three Stages are \n",
    "    \n",
    "    Data Preparatation \n",
    "    Traning set genearation\n",
    "    Algorithm training"
   ]
  },
  {
   "cell_type": "code",
   "execution_count": null,
   "metadata": {},
   "outputs": [],
   "source": [
    "Question 2 : What is the standard approach to supervised learning?\n",
    "    \n",
    "    Supervised learning predicts the values based on historical data. Supervised learning is something \n",
    "    we know results already from historical data. Predict the value of dependent variable( label) \n",
    "    based on independent variables "
   ]
  },
  {
   "cell_type": "code",
   "execution_count": null,
   "metadata": {},
   "outputs": [],
   "source": [
    "Question 3 : What is Training set and Test set?\n",
    "    \n",
    "    Training Set: Set of data used to Train the Model\n",
    "        Test Set: set of data used to validate the model"
   ]
  },
  {
   "cell_type": "code",
   "execution_count": null,
   "metadata": {},
   "outputs": [],
   "source": [
    "Question 4: What is the general principle of an ensemble method and what is bagging and\n",
    "boosting in ensemble method?\n",
    "\n",
    "Ensemble Method : It is to combine predictions of several models in order to improve robustness of a model\n",
    "\n",
    "    \n",
    "Bagging : It is to get multiple versions of a predictor and these to get an aggregated predictor\n",
    "    \n",
    "Boosting: It is another technique to run through various samples and see which sample gives better \n",
    "    performance through multiple iterations \n",
    "    \n",
    "    "
   ]
  },
  {
   "cell_type": "code",
   "execution_count": null,
   "metadata": {},
   "outputs": [],
   "source": [
    "Question 5: How can you avoid overfitting ?\n",
    "    \n",
    "    It refers to model that performs too well with training data but fails to perform with other data."
   ]
  }
 ],
 "metadata": {
  "kernelspec": {
   "display_name": "Python 3",
   "language": "python",
   "name": "python3"
  },
  "language_info": {
   "codemirror_mode": {
    "name": "ipython",
    "version": 3
   },
   "file_extension": ".py",
   "mimetype": "text/x-python",
   "name": "python",
   "nbconvert_exporter": "python",
   "pygments_lexer": "ipython3",
   "version": "3.6.4"
  }
 },
 "nbformat": 4,
 "nbformat_minor": 2
}
